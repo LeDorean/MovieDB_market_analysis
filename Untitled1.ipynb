{
 "cells": [
  {
   "cell_type": "code",
   "execution_count": 1,
   "metadata": {},
   "outputs": [],
   "source": [
    "# importing necessary libraries\n",
    "import pandas as pd\n",
    "import numpy as np\n",
    "import matplotlib.pyplot as plt\n",
    "import requests\n",
    "import json\n",
    "import seaborn as sns"
   ]
  },
  {
   "cell_type": "code",
   "execution_count": 10,
   "metadata": {},
   "outputs": [],
   "source": [
    "#load raw data from csv\n",
    "df=pd.read_csv('tmdb_raw.csv')"
   ]
  },
  {
   "cell_type": "code",
   "execution_count": 11,
   "metadata": {},
   "outputs": [],
   "source": [
    "# Separating our release date into year and month.\n",
    "df['release_year'] = df['release_date'].apply(lambda x: int(x[0:4]))\n",
    "df['release_month'] = df['release_date'].apply(lambda x: int(x[5:7]))\n",
    "df.drop('release_date',axis= 1,inplace=True)"
   ]
  },
  {
   "cell_type": "code",
   "execution_count": 12,
   "metadata": {},
   "outputs": [],
   "source": [
    "# Removing unnecessary information\n",
    "df.drop(['poster_path','video','backdrop_path','adult','original_language','genre_ids','original_title'],axis=1,inplace=True)\n",
    "\n",
    "#Rearranging columns with a more easy to read order.\n",
    "new_col=[ 'id', 'title', 'imdb_id','genres','overview', 'budget', 'release_year','release_month','popularity', 'vote_count','vote_average','revenue', 'runtime','production_companies', 'production_countries']\n",
    "df=df[new_col]\n",
    "# Dropping irrelevant missing data \n",
    "to_drop=df[(df.production_companies==\" \")|(df.imdb_id=='')].index#(df.revenue==0)|(df.budget==0)|(df.runtime.isna())].index\n",
    "df.drop(to_drop,inplace=True)\n",
    "\n",
    "\n",
    "# Unpacking dictionaries from strings\n",
    "df.production_companies = [eval(key) for key in df.production_companies]\n",
    "df.production_countries= [eval(key) for key in df.production_countries]\n",
    "df.genres= [eval(key) for key in df.genres]\n",
    "\n",
    "# Resetting the index to maintain cohesive rows.\n",
    "df.reset_index(drop=True,inplace=True)"
   ]
  },
  {
   "cell_type": "code",
   "execution_count": 13,
   "metadata": {},
   "outputs": [],
   "source": [
    "#convert revenue, runtime, budget to floats\n",
    "df['revenue']=df.revenue.astype('float64')\n",
    "df['runtime']=df.runtime.astype('float64')\n",
    "df['budget']=df.budget.astype('float64')"
   ]
  },
  {
   "cell_type": "code",
   "execution_count": 14,
   "metadata": {},
   "outputs": [],
   "source": [
    "# Exporting main DF so API is not needed to run.\n",
    "df.to_csv('tmdb_master.csv',index=False)"
   ]
  },
  {
   "cell_type": "code",
   "execution_count": 15,
   "metadata": {},
   "outputs": [
    {
     "data": {
      "text/html": [
       "<div>\n",
       "<style scoped>\n",
       "    .dataframe tbody tr th:only-of-type {\n",
       "        vertical-align: middle;\n",
       "    }\n",
       "\n",
       "    .dataframe tbody tr th {\n",
       "        vertical-align: top;\n",
       "    }\n",
       "\n",
       "    .dataframe thead th {\n",
       "        text-align: right;\n",
       "    }\n",
       "</style>\n",
       "<table border=\"1\" class=\"dataframe\">\n",
       "  <thead>\n",
       "    <tr style=\"text-align: right;\">\n",
       "      <th></th>\n",
       "      <th>id</th>\n",
       "      <th>title</th>\n",
       "      <th>imdb_id</th>\n",
       "      <th>genres</th>\n",
       "      <th>overview</th>\n",
       "      <th>budget</th>\n",
       "      <th>release_year</th>\n",
       "      <th>release_month</th>\n",
       "      <th>popularity</th>\n",
       "      <th>vote_count</th>\n",
       "      <th>vote_average</th>\n",
       "      <th>revenue</th>\n",
       "      <th>runtime</th>\n",
       "      <th>production_companies</th>\n",
       "      <th>production_countries</th>\n",
       "    </tr>\n",
       "  </thead>\n",
       "  <tbody>\n",
       "    <tr>\n",
       "      <td>0</td>\n",
       "      <td>475557</td>\n",
       "      <td>Joker</td>\n",
       "      <td>tt7286456</td>\n",
       "      <td>[{'id': 80, 'name': 'Crime'}, {'id': 53, 'name...</td>\n",
       "      <td>During the 1980s, a failed stand-up comedian i...</td>\n",
       "      <td>55000000.0</td>\n",
       "      <td>2019</td>\n",
       "      <td>10</td>\n",
       "      <td>91.270</td>\n",
       "      <td>14356</td>\n",
       "      <td>8.2</td>\n",
       "      <td>1.074251e+09</td>\n",
       "      <td>122.0</td>\n",
       "      <td>[{'id': 9993, 'logo_path': '/2Tc1P3Ac8M479naPp...</td>\n",
       "      <td>[{'id': 9993, 'logo_path': '/2Tc1P3Ac8M479naPp...</td>\n",
       "    </tr>\n",
       "    <tr>\n",
       "      <td>1</td>\n",
       "      <td>299536</td>\n",
       "      <td>Avengers: Infinity War</td>\n",
       "      <td>tt4154756</td>\n",
       "      <td>[{'id': 12, 'name': 'Adventure'}, {'id': 28, '...</td>\n",
       "      <td>As the Avengers and their allies have continue...</td>\n",
       "      <td>300000000.0</td>\n",
       "      <td>2018</td>\n",
       "      <td>4</td>\n",
       "      <td>80.814</td>\n",
       "      <td>19360</td>\n",
       "      <td>8.3</td>\n",
       "      <td>2.046240e+09</td>\n",
       "      <td>149.0</td>\n",
       "      <td>[{'id': 420, 'logo_path': '/hUzeosd33nzE5MCNsZ...</td>\n",
       "      <td>[{'id': 420, 'logo_path': '/hUzeosd33nzE5MCNsZ...</td>\n",
       "    </tr>\n",
       "    <tr>\n",
       "      <td>3</td>\n",
       "      <td>271110</td>\n",
       "      <td>Captain America: Civil War</td>\n",
       "      <td>tt3498820</td>\n",
       "      <td>[{'id': 12, 'name': 'Adventure'}, {'id': 28, '...</td>\n",
       "      <td>Following the events of Age of Ultron, the col...</td>\n",
       "      <td>250000000.0</td>\n",
       "      <td>2016</td>\n",
       "      <td>4</td>\n",
       "      <td>73.550</td>\n",
       "      <td>16653</td>\n",
       "      <td>7.4</td>\n",
       "      <td>1.153296e+09</td>\n",
       "      <td>147.0</td>\n",
       "      <td>[{'id': 420, 'logo_path': '/hUzeosd33nzE5MCNsZ...</td>\n",
       "      <td>[{'id': 420, 'logo_path': '/hUzeosd33nzE5MCNsZ...</td>\n",
       "    </tr>\n",
       "    <tr>\n",
       "      <td>2</td>\n",
       "      <td>27205</td>\n",
       "      <td>Inception</td>\n",
       "      <td>tt1375666</td>\n",
       "      <td>[{'id': 28, 'name': 'Action'}, {'id': 878, 'na...</td>\n",
       "      <td>Cobb, a skilled thief who commits corporate es...</td>\n",
       "      <td>160000000.0</td>\n",
       "      <td>2010</td>\n",
       "      <td>7</td>\n",
       "      <td>70.987</td>\n",
       "      <td>26863</td>\n",
       "      <td>8.3</td>\n",
       "      <td>8.255328e+08</td>\n",
       "      <td>148.0</td>\n",
       "      <td>[{'id': 923, 'logo_path': '/5UQsZrfbfG2dYJbx8D...</td>\n",
       "      <td>[{'id': 923, 'logo_path': '/5UQsZrfbfG2dYJbx8D...</td>\n",
       "    </tr>\n",
       "    <tr>\n",
       "      <td>7</td>\n",
       "      <td>122917</td>\n",
       "      <td>The Hobbit: The Battle of the Five Armies</td>\n",
       "      <td>tt2310332</td>\n",
       "      <td>[{'id': 28, 'name': 'Action'}, {'id': 12, 'nam...</td>\n",
       "      <td>Immediately after the events of The Desolation...</td>\n",
       "      <td>250000000.0</td>\n",
       "      <td>2014</td>\n",
       "      <td>12</td>\n",
       "      <td>69.188</td>\n",
       "      <td>10138</td>\n",
       "      <td>7.3</td>\n",
       "      <td>9.560198e+08</td>\n",
       "      <td>144.0</td>\n",
       "      <td>[{'id': 174, 'logo_path': '/IuAlhI9eVC9Z8UQWOI...</td>\n",
       "      <td>[{'id': 174, 'logo_path': '/IuAlhI9eVC9Z8UQWOI...</td>\n",
       "    </tr>\n",
       "  </tbody>\n",
       "</table>\n",
       "</div>"
      ],
      "text/plain": [
       "       id                                      title    imdb_id  \\\n",
       "0  475557                                      Joker  tt7286456   \n",
       "1  299536                     Avengers: Infinity War  tt4154756   \n",
       "3  271110                 Captain America: Civil War  tt3498820   \n",
       "2   27205                                  Inception  tt1375666   \n",
       "7  122917  The Hobbit: The Battle of the Five Armies  tt2310332   \n",
       "\n",
       "                                              genres  \\\n",
       "0  [{'id': 80, 'name': 'Crime'}, {'id': 53, 'name...   \n",
       "1  [{'id': 12, 'name': 'Adventure'}, {'id': 28, '...   \n",
       "3  [{'id': 12, 'name': 'Adventure'}, {'id': 28, '...   \n",
       "2  [{'id': 28, 'name': 'Action'}, {'id': 878, 'na...   \n",
       "7  [{'id': 28, 'name': 'Action'}, {'id': 12, 'nam...   \n",
       "\n",
       "                                            overview       budget  \\\n",
       "0  During the 1980s, a failed stand-up comedian i...   55000000.0   \n",
       "1  As the Avengers and their allies have continue...  300000000.0   \n",
       "3  Following the events of Age of Ultron, the col...  250000000.0   \n",
       "2  Cobb, a skilled thief who commits corporate es...  160000000.0   \n",
       "7  Immediately after the events of The Desolation...  250000000.0   \n",
       "\n",
       "   release_year  release_month  popularity  vote_count  vote_average  \\\n",
       "0          2019             10      91.270       14356           8.2   \n",
       "1          2018              4      80.814       19360           8.3   \n",
       "3          2016              4      73.550       16653           7.4   \n",
       "2          2010              7      70.987       26863           8.3   \n",
       "7          2014             12      69.188       10138           7.3   \n",
       "\n",
       "        revenue  runtime                               production_companies  \\\n",
       "0  1.074251e+09    122.0  [{'id': 9993, 'logo_path': '/2Tc1P3Ac8M479naPp...   \n",
       "1  2.046240e+09    149.0  [{'id': 420, 'logo_path': '/hUzeosd33nzE5MCNsZ...   \n",
       "3  1.153296e+09    147.0  [{'id': 420, 'logo_path': '/hUzeosd33nzE5MCNsZ...   \n",
       "2  8.255328e+08    148.0  [{'id': 923, 'logo_path': '/5UQsZrfbfG2dYJbx8D...   \n",
       "7  9.560198e+08    144.0  [{'id': 174, 'logo_path': '/IuAlhI9eVC9Z8UQWOI...   \n",
       "\n",
       "                                production_countries  \n",
       "0  [{'id': 9993, 'logo_path': '/2Tc1P3Ac8M479naPp...  \n",
       "1  [{'id': 420, 'logo_path': '/hUzeosd33nzE5MCNsZ...  \n",
       "3  [{'id': 420, 'logo_path': '/hUzeosd33nzE5MCNsZ...  \n",
       "2  [{'id': 923, 'logo_path': '/5UQsZrfbfG2dYJbx8D...  \n",
       "7  [{'id': 174, 'logo_path': '/IuAlhI9eVC9Z8UQWOI...  "
      ]
     },
     "execution_count": 15,
     "metadata": {},
     "output_type": "execute_result"
    }
   ],
   "source": [
    "# Load DataFrame and assess values\n",
    "companies_df=df.copy()\n",
    "#companies_df.reset_index(drop=True,inplace=True)\n",
    "companies_df.sort_values('popularity',ascending=False).head(5)"
   ]
  },
  {
   "cell_type": "code",
   "execution_count": 16,
   "metadata": {},
   "outputs": [],
   "source": [
    "# Creating a necessary functions\n",
    "#Function 1\n",
    "def namelist(cell):\n",
    "    \"\"\"\n",
    "    namelist(string)\n",
    "    \n",
    "    This function takes in a cell and returns the unique names of the cells dictionary.\n",
    "    \"\"\"\n",
    "    name_list=[]\n",
    "    for i in cell:\n",
    "        name_list.append(i['name'])\n",
    "    return name_list\n",
    "\n",
    "\n",
    "#Function 2\n",
    "def list_to_dic(column,df,var='none'):\n",
    "    \"\"\"\n",
    "    list_to_dic(string,dataframe)\n",
    "    \n",
    "    list_to_dic takes in the column that we want to create a dictionary that counts the repetition of values for \n",
    "    said word.\n",
    "    list_to_dic creates a column in the provided DataFrame with the list of unique values of said column string,\n",
    "    then it evaluates the string and teruns a dictionary list with all unique words and their count for the column.\n",
    "    \n",
    "    if variable is provided it will return a requested variable from the list_to_dic function\n",
    "    \"\"\"\n",
    "\n",
    "    \n",
    "    column_name=column+'_list'\n",
    "    df[column_name]=df[column].apply(namelist)\n",
    "    company_list=list(df[column_name])\n",
    "    dup_list=[]\n",
    "    \n",
    "    if var=='unique_list':\n",
    "        for a in company_list:\n",
    "            for i in a:\n",
    "                dup_list.append(i)\n",
    "        unique_list=list(set(dup_list))\n",
    "        return unique_list\n",
    "    else:\n",
    "        for a in company_list:\n",
    "            for i in a:\n",
    "                dup_list.append(i)\n",
    "        unique_list=list(set(dup_list))\n",
    "    company_dictionary={}\n",
    "    \n",
    "    for company in unique_list:\n",
    "        company_dictionary[company]=0\n",
    "    \n",
    "    for company in dup_list:\n",
    "        company_dictionary[company]=company_dictionary[company]+1\n",
    "    if var=='dictionary':\n",
    "        return company_dictionary"
   ]
  },
  {
   "cell_type": "code",
   "execution_count": 17,
   "metadata": {},
   "outputs": [],
   "source": [
    "# Using our function to create a list of dictionarys with our unique companies\n",
    "company_dictionary= list_to_dic('production_companies',companies_df, \"dictionary\")"
   ]
  },
  {
   "cell_type": "code",
   "execution_count": 18,
   "metadata": {},
   "outputs": [],
   "source": [
    "# Creating our DataFrame ready for Plotting\n",
    "companies_df=pd.DataFrame(company_dictionary.items(),  columns=['Name', 'Count'])\n",
    "top=companies_df.sort_values('Count', ascending=False).head(20)"
   ]
  },
  {
   "cell_type": "code",
   "execution_count": 19,
   "metadata": {},
   "outputs": [
    {
     "data": {
      "image/png": "[encoded data removed]",
      "text/plain": [
       "<Figure size 1080x576 with 1 Axes>"
      ]
     },
     "metadata": {
      "needs_background": "light"
     },
     "output_type": "display_data"
    }
   ],
   "source": [
    "# Final Plot\n",
    "x=top['Name']\n",
    "y=top['Count']\n",
    "\n",
    "fig,ax=plt.subplots(figsize=(15,8))\n",
    "comp_bar=sns.barplot(x,y)\n",
    "comp_bar.set(title='Top 20 production companies by count')\n",
    "comp_bar.set_xticklabels(comp_bar.get_xticklabels(), rotation=90,fontsize='x-small');\n"
   ]
  },
  {
   "cell_type": "code",
   "execution_count": 20,
   "metadata": {},
   "outputs": [],
   "source": [
    "# Loading our master file and creating a DataFrame to work with\n",
    "revenue_df=df.copy()"
   ]
  },
  {
   "cell_type": "code",
   "execution_count": 21,
   "metadata": {},
   "outputs": [],
   "source": [
    "#Dropping irrelevant missing data \n",
    "to_drop=revenue_df[(revenue_df.revenue==0)|(revenue_df.budget==0)].index\n",
    "revenue_df.drop(to_drop,inplace=True)"
   ]
  },
  {
   "cell_type": "code",
   "execution_count": 22,
   "metadata": {},
   "outputs": [],
   "source": [
    "# Getting our unique list\n",
    "unique_list= list_to_dic('production_companies',revenue_df,'unique_list')\n",
    "unique_list=sorted(unique_list)"
   ]
  },
  {
   "cell_type": "code",
   "execution_count": 23,
   "metadata": {},
   "outputs": [],
   "source": [
    "# Creating our list lenght and mean revenue columns.\n",
    "revenue_df.reset_index(drop=True,inplace=True)\n",
    "revenue_df['list_length']=revenue_df.production_companies_list.apply(lambda x: len(x))\n",
    "revenue_df['mean_revenue']= revenue_df.revenue/revenue_df.list_length"
   ]
  },
  {
   "cell_type": "code",
   "execution_count": 24,
   "metadata": {},
   "outputs": [],
   "source": [
    "# Creating a list where we calculate the mean based on our totlal companies and the total revenue\n",
    "company_revenue_mean=[]\n",
    "for company in unique_list:\n",
    "    count=0\n",
    "    total=0\n",
    "    for i in range(len(revenue_df.production_companies_list)):\n",
    "        if company in revenue_df.production_companies_list[i]:\n",
    "            total+= revenue_df.mean_revenue[i]\n",
    "            count+=1\n",
    "    company_revenue_mean.append(total/count)"
   ]
  },
  {
   "cell_type": "code",
   "execution_count": 25,
   "metadata": {},
   "outputs": [],
   "source": [
    "#Creating the mean table \n",
    "company_revenue_mean=[x/1000 for x in company_revenue_mean]\n",
    "mean_company=pd.DataFrame(company_revenue_mean,unique_list)\n",
    "mean_company.reset_index(inplace=True)\n",
    "mean_company.columns=['company','mean']\n",
    "mean_company.sort_values('mean',ascending=False,inplace=True)\n",
    "mean_company.reset_index(drop=True, inplace=True)"
   ]
  },
  {
   "cell_type": "code",
   "execution_count": 26,
   "metadata": {},
   "outputs": [
    {
     "data": {
      "text/html": [
       "<div>\n",
       "<style scoped>\n",
       "    .dataframe tbody tr th:only-of-type {\n",
       "        vertical-align: middle;\n",
       "    }\n",
       "\n",
       "    .dataframe tbody tr th {\n",
       "        vertical-align: top;\n",
       "    }\n",
       "\n",
       "    .dataframe thead th {\n",
       "        text-align: right;\n",
       "    }\n",
       "</style>\n",
       "<table border=\"1\" class=\"dataframe\">\n",
       "  <thead>\n",
       "    <tr style=\"text-align: right;\">\n",
       "      <th></th>\n",
       "      <th>company</th>\n",
       "      <th>mean</th>\n",
       "    </tr>\n",
       "  </thead>\n",
       "  <tbody>\n",
       "    <tr>\n",
       "      <td>0</td>\n",
       "      <td>Marvel Studios</td>\n",
       "      <td>733176.693000</td>\n",
       "    </tr>\n",
       "    <tr>\n",
       "      <td>1</td>\n",
       "      <td>Truenorth Productions</td>\n",
       "      <td>689407.874667</td>\n",
       "    </tr>\n",
       "  </tbody>\n",
       "</table>\n",
       "</div>"
      ],
      "text/plain": [
       "                 company           mean\n",
       "0         Marvel Studios  733176.693000\n",
       "1  Truenorth Productions  689407.874667"
      ]
     },
     "execution_count": 26,
     "metadata": {},
     "output_type": "execute_result"
    }
   ],
   "source": [
    "mean_company.head(2)"
   ]
  },
  {
   "cell_type": "code",
   "execution_count": 27,
   "metadata": {},
   "outputs": [
    {
     "data": {
      "image/png": "[encoded data removed]",
      "text/plain": [
       "<Figure size 1080x576 with 1 Axes>"
      ]
     },
     "metadata": {
      "needs_background": "light"
     },
     "output_type": "display_data"
    }
   ],
   "source": [
    "# plotting our Top 20 Production Companies \n",
    "x=mean_company['company'].head(20)\n",
    "y=mean_company['mean'].head(20)\n",
    "\n",
    "fig,ax=plt.subplots(figsize=(15,8))\n",
    "comp_bar=sns.barplot(x,y)\n",
    "comp_bar.set(title='Top 20 production companies by mean revenue', ylabel='Mean (1,000\\'s)',xlabel='Company Name')\n",
    "comp_bar.set_xticklabels(comp_bar.get_xticklabels(), rotation=90,fontsize='x-small');\n"
   ]
  },
  {
   "cell_type": "code",
   "execution_count": null,
   "metadata": {},
   "outputs": [],
   "source": []
  }
 ],
 "metadata": {
  "kernelspec": {
   "display_name": "Python 3",
   "language": "python",
   "name": "python3"
  },
  "language_info": {
   "codemirror_mode": {
    "name": "ipython",
    "version": 3
   },
   "file_extension": ".py",
   "mimetype": "text/x-python",
   "name": "python",
   "nbconvert_exporter": "python",
   "pygments_lexer": "ipython3",
   "version": "3.7.4"
  }
 },
 "nbformat": 4,
 "nbformat_minor": 2
}
